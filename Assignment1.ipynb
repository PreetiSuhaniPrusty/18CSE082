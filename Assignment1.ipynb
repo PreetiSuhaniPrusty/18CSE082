{
  "nbformat": 4,
  "nbformat_minor": 0,
  "metadata": {
    "colab": {
      "name": "Assignment1.ipynb",
      "provenance": [],
      "authorship_tag": "ABX9TyOWVWdJ5Y37F1AtNk9Vwv6M",
      "include_colab_link": true
    },
    "kernelspec": {
      "name": "python3",
      "display_name": "Python 3"
    }
  },
  "cells": [
    {
      "cell_type": "markdown",
      "metadata": {
        "id": "view-in-github",
        "colab_type": "text"
      },
      "source": [
        "<a href=\"https://colab.research.google.com/github/PreetiSuhaniPrusty/18CSE082/blob/main/Assignment1.ipynb\" target=\"_parent\"><img src=\"https://colab.research.google.com/assets/colab-badge.svg\" alt=\"Open In Colab\"/></a>"
      ]
    },
    {
      "cell_type": "markdown",
      "metadata": {
        "id": "wy4Y-eU6b0bl"
      },
      "source": [
        "Q1. Write a python code for finding mean, median and mode."
      ]
    },
    {
      "cell_type": "code",
      "metadata": {
        "id": "b3eDOlKYb3Je"
      },
      "source": [
        "import numpy"
      ],
      "execution_count": 1,
      "outputs": []
    },
    {
      "cell_type": "code",
      "metadata": {
        "id": "SlOBFIJxcE_O"
      },
      "source": [
        "from scipy import stats"
      ],
      "execution_count": 2,
      "outputs": []
    },
    {
      "cell_type": "code",
      "metadata": {
        "id": "WPx51U16cJp0"
      },
      "source": [
        "age= [19,46,67,38,11,46,13,57,44,78,37,55,36]"
      ],
      "execution_count": 3,
      "outputs": []
    },
    {
      "cell_type": "code",
      "metadata": {
        "id": "fiLehpBkcRN9"
      },
      "source": [
        "x = numpy.mean(age)"
      ],
      "execution_count": 4,
      "outputs": []
    },
    {
      "cell_type": "code",
      "metadata": {
        "id": "kxJjp7WfcWoR"
      },
      "source": [
        "y = numpy.median(age)"
      ],
      "execution_count": 5,
      "outputs": []
    },
    {
      "cell_type": "code",
      "metadata": {
        "id": "5CBrbVZ-ca_w"
      },
      "source": [
        "z = stats.mode(age)"
      ],
      "execution_count": 6,
      "outputs": []
    },
    {
      "cell_type": "code",
      "metadata": {
        "colab": {
          "base_uri": "https://localhost:8080/"
        },
        "id": "ibJWBKoVcgoY",
        "outputId": "5c421c65-3a5c-4fce-bfd8-1265d56f3309"
      },
      "source": [
        "print('Mean = ',x)"
      ],
      "execution_count": 7,
      "outputs": [
        {
          "output_type": "stream",
          "text": [
            "Mean =  42.07692307692308\n"
          ],
          "name": "stdout"
        }
      ]
    },
    {
      "cell_type": "code",
      "metadata": {
        "colab": {
          "base_uri": "https://localhost:8080/"
        },
        "id": "1Ne6QFFzcmfa",
        "outputId": "b1e093c3-9ea7-4b25-d8f3-f5389a0424a9"
      },
      "source": [
        "print('Median = ',y)"
      ],
      "execution_count": 8,
      "outputs": [
        {
          "output_type": "stream",
          "text": [
            "Median =  44.0\n"
          ],
          "name": "stdout"
        }
      ]
    },
    {
      "cell_type": "code",
      "metadata": {
        "colab": {
          "base_uri": "https://localhost:8080/"
        },
        "id": "lrcnCl1Bct45",
        "outputId": "54858055-97c7-45db-94d0-69943d02163b"
      },
      "source": [
        "print('Mode = ',z)"
      ],
      "execution_count": 9,
      "outputs": [
        {
          "output_type": "stream",
          "text": [
            "Mode =  ModeResult(mode=array([46]), count=array([2]))\n"
          ],
          "name": "stdout"
        }
      ]
    },
    {
      "cell_type": "markdown",
      "metadata": {
        "id": "jxjDW11yc5Sc"
      },
      "source": [
        "Q2. Write a python code for calculating variance and standard deviation for the set of elements."
      ]
    },
    {
      "cell_type": "code",
      "metadata": {
        "id": "_Dy6_DxVc6tN"
      },
      "source": [
        "s = numpy.std(age)"
      ],
      "execution_count": 10,
      "outputs": []
    },
    {
      "cell_type": "code",
      "metadata": {
        "id": "d3CpNWHSdFVH"
      },
      "source": [
        "v = numpy.var(age)"
      ],
      "execution_count": 11,
      "outputs": []
    },
    {
      "cell_type": "code",
      "metadata": {
        "colab": {
          "base_uri": "https://localhost:8080/"
        },
        "id": "r4LAnqIldQIf",
        "outputId": "4eec98d7-418e-4c0a-dbe0-912c42f846ff"
      },
      "source": [
        "print('Standard Deviation = ',s)"
      ],
      "execution_count": 12,
      "outputs": [
        {
          "output_type": "stream",
          "text": [
            "Standard Deviation =  19.132982149083812\n"
          ],
          "name": "stdout"
        }
      ]
    },
    {
      "cell_type": "code",
      "metadata": {
        "colab": {
          "base_uri": "https://localhost:8080/"
        },
        "id": "xROmFyXodVf8",
        "outputId": "cc96c5d4-9a56-45b4-fd18-024a458d48d6"
      },
      "source": [
        "print('Variacnce = ',v)"
      ],
      "execution_count": 13,
      "outputs": [
        {
          "output_type": "stream",
          "text": [
            "Variacnce =  366.07100591715977\n"
          ],
          "name": "stdout"
        }
      ]
    },
    {
      "cell_type": "markdown",
      "metadata": {
        "id": "S6LyI3Pddiro"
      },
      "source": [
        "Practice some basic python programs"
      ]
    },
    {
      "cell_type": "code",
      "metadata": {
        "colab": {
          "base_uri": "https://localhost:8080/"
        },
        "id": "hcv6KYGCdpFp",
        "outputId": "f5e577f8-00a9-45f1-c59e-5f9a807a8a50"
      },
      "source": [
        "# This program prints Hello, world!\n",
        "\n",
        "print('Hello, world!')"
      ],
      "execution_count": 14,
      "outputs": [
        {
          "output_type": "stream",
          "text": [
            "Hello, world!\n"
          ],
          "name": "stdout"
        }
      ]
    },
    {
      "cell_type": "code",
      "metadata": {
        "colab": {
          "base_uri": "https://localhost:8080/"
        },
        "id": "j6DIeeTGeBlN",
        "outputId": "a304cef0-dc79-4121-e237-693a83332ebd"
      },
      "source": [
        "# This program adds two numbers\n",
        "\n",
        "num1 = 10\n",
        "num2 = 20\n",
        "\n",
        "# Add two numbers\n",
        "sum = num1 + num2\n",
        "\n",
        "# Display the sum\n",
        "print('The sum of {0} and {1} is {2}'.format(num1, num2, sum))"
      ],
      "execution_count": 15,
      "outputs": [
        {
          "output_type": "stream",
          "text": [
            "The sum of 10 and 20 is 30\n"
          ],
          "name": "stdout"
        }
      ]
    },
    {
      "cell_type": "code",
      "metadata": {
        "colab": {
          "base_uri": "https://localhost:8080/"
        },
        "id": "cXKhI_foeUBE",
        "outputId": "a0b554af-9495-4d9d-8414-f65b435656f0"
      },
      "source": [
        "# Python Program to calculate the square root\n",
        "\n",
        "num = 10 \n",
        "\n",
        "num_sqrt = num ** 0.5\n",
        "print('The square root of %0.3f is %0.3f'%(num ,num_sqrt))"
      ],
      "execution_count": 16,
      "outputs": [
        {
          "output_type": "stream",
          "text": [
            "The square root of 10.000 is 3.162\n"
          ],
          "name": "stdout"
        }
      ]
    },
    {
      "cell_type": "code",
      "metadata": {
        "colab": {
          "base_uri": "https://localhost:8080/"
        },
        "id": "xd-GWpeOejmy",
        "outputId": "9cf3e68c-def7-4e8e-a8ed-ed96cb56ce57"
      },
      "source": [
        "# Solve the quadratic equation ax**2 + bx + c = 0\n",
        "\n",
        "# import complex math module\n",
        "import cmath\n",
        "\n",
        "a = 1\n",
        "b = 5\n",
        "c = 6\n",
        "\n",
        "# calculate the discriminant\n",
        "d = (b**2) - (4*a*c)\n",
        "\n",
        "# find two solutions\n",
        "sol1 = (-b-cmath.sqrt(d))/(2*a)\n",
        "sol2 = (-b+cmath.sqrt(d))/(2*a)\n",
        "\n",
        "print('The solution are {0} and {1}'.format(sol1,sol2))"
      ],
      "execution_count": 18,
      "outputs": [
        {
          "output_type": "stream",
          "text": [
            "The solution are (-3+0j) and (-2+0j)\n"
          ],
          "name": "stdout"
        }
      ]
    },
    {
      "cell_type": "code",
      "metadata": {
        "colab": {
          "base_uri": "https://localhost:8080/"
        },
        "id": "aX8ZNNdwex52",
        "outputId": "e04a0ecd-e7e9-4260-b7b6-a4a64b163700"
      },
      "source": [
        "# Program to generate a random number between 0 and 9\n",
        "\n",
        "# importing the random module\n",
        "import random\n",
        "\n",
        "print(random.randint(0,9))"
      ],
      "execution_count": 19,
      "outputs": [
        {
          "output_type": "stream",
          "text": [
            "1\n"
          ],
          "name": "stdout"
        }
      ]
    },
    {
      "cell_type": "code",
      "metadata": {
        "colab": {
          "base_uri": "https://localhost:8080/"
        },
        "id": "9N3K49StfN5o",
        "outputId": "bfa8d789-f623-47ba-c92e-e27817933185"
      },
      "source": [
        "# Python program to swap two variables\n",
        "\n",
        "x = 8\n",
        "y = 20\n",
        "\n",
        "# create a temporary variable and swap the values\n",
        "temp = x\n",
        "x = y\n",
        "y = temp\n",
        "\n",
        "print('The value of x after swapping: {}'.format(x))\n",
        "print('The value of y after swapping: {}'.format(y))"
      ],
      "execution_count": 21,
      "outputs": [
        {
          "output_type": "stream",
          "text": [
            "The value of x after swapping: 20\n",
            "The value of y after swapping: 8\n"
          ],
          "name": "stdout"
        }
      ]
    }
  ]
}